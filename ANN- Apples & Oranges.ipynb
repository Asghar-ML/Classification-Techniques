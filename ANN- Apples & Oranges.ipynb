{
 "cells": [
  {
   "cell_type": "markdown",
   "metadata": {},
   "source": [
    "# Importing Dataset"
   ]
  },
  {
   "cell_type": "code",
   "execution_count": 1,
   "metadata": {},
   "outputs": [
    {
     "data": {
      "text/html": [
       "<div>\n",
       "<style scoped>\n",
       "    .dataframe tbody tr th:only-of-type {\n",
       "        vertical-align: middle;\n",
       "    }\n",
       "\n",
       "    .dataframe tbody tr th {\n",
       "        vertical-align: top;\n",
       "    }\n",
       "\n",
       "    .dataframe thead th {\n",
       "        text-align: right;\n",
       "    }\n",
       "</style>\n",
       "<table border=\"1\" class=\"dataframe\">\n",
       "  <thead>\n",
       "    <tr style=\"text-align: right;\">\n",
       "      <th></th>\n",
       "      <th>Weight</th>\n",
       "      <th>Size</th>\n",
       "      <th>Class</th>\n",
       "    </tr>\n",
       "  </thead>\n",
       "  <tbody>\n",
       "    <tr>\n",
       "      <th>0</th>\n",
       "      <td>69</td>\n",
       "      <td>4.39</td>\n",
       "      <td>orange</td>\n",
       "    </tr>\n",
       "    <tr>\n",
       "      <th>1</th>\n",
       "      <td>69</td>\n",
       "      <td>4.21</td>\n",
       "      <td>orange</td>\n",
       "    </tr>\n",
       "    <tr>\n",
       "      <th>2</th>\n",
       "      <td>65</td>\n",
       "      <td>4.09</td>\n",
       "      <td>orange</td>\n",
       "    </tr>\n",
       "    <tr>\n",
       "      <th>3</th>\n",
       "      <td>72</td>\n",
       "      <td>5.85</td>\n",
       "      <td>apple</td>\n",
       "    </tr>\n",
       "    <tr>\n",
       "      <th>4</th>\n",
       "      <td>67</td>\n",
       "      <td>4.70</td>\n",
       "      <td>orange</td>\n",
       "    </tr>\n",
       "  </tbody>\n",
       "</table>\n",
       "</div>"
      ],
      "text/plain": [
       "   Weight  Size   Class\n",
       "0      69  4.39  orange\n",
       "1      69  4.21  orange\n",
       "2      65  4.09  orange\n",
       "3      72  5.85   apple\n",
       "4      67  4.70  orange"
      ]
     },
     "execution_count": 1,
     "metadata": {},
     "output_type": "execute_result"
    }
   ],
   "source": [
    "import pandas as pd\n",
    "df = pd.read_csv('apples_and_oranges.csv')\n",
    "df.head()"
   ]
  },
  {
   "cell_type": "markdown",
   "metadata": {},
   "source": [
    "# Changing Datatype"
   ]
  },
  {
   "cell_type": "code",
   "execution_count": 2,
   "metadata": {},
   "outputs": [
    {
     "data": {
      "text/html": [
       "<div>\n",
       "<style scoped>\n",
       "    .dataframe tbody tr th:only-of-type {\n",
       "        vertical-align: middle;\n",
       "    }\n",
       "\n",
       "    .dataframe tbody tr th {\n",
       "        vertical-align: top;\n",
       "    }\n",
       "\n",
       "    .dataframe thead th {\n",
       "        text-align: right;\n",
       "    }\n",
       "</style>\n",
       "<table border=\"1\" class=\"dataframe\">\n",
       "  <thead>\n",
       "    <tr style=\"text-align: right;\">\n",
       "      <th></th>\n",
       "      <th>Weight</th>\n",
       "      <th>Size</th>\n",
       "      <th>Class</th>\n",
       "    </tr>\n",
       "  </thead>\n",
       "  <tbody>\n",
       "    <tr>\n",
       "      <th>0</th>\n",
       "      <td>69</td>\n",
       "      <td>4.39</td>\n",
       "      <td>1</td>\n",
       "    </tr>\n",
       "    <tr>\n",
       "      <th>1</th>\n",
       "      <td>69</td>\n",
       "      <td>4.21</td>\n",
       "      <td>1</td>\n",
       "    </tr>\n",
       "    <tr>\n",
       "      <th>2</th>\n",
       "      <td>65</td>\n",
       "      <td>4.09</td>\n",
       "      <td>1</td>\n",
       "    </tr>\n",
       "    <tr>\n",
       "      <th>3</th>\n",
       "      <td>72</td>\n",
       "      <td>5.85</td>\n",
       "      <td>0</td>\n",
       "    </tr>\n",
       "    <tr>\n",
       "      <th>4</th>\n",
       "      <td>67</td>\n",
       "      <td>4.70</td>\n",
       "      <td>1</td>\n",
       "    </tr>\n",
       "  </tbody>\n",
       "</table>\n",
       "</div>"
      ],
      "text/plain": [
       "   Weight  Size  Class\n",
       "0      69  4.39      1\n",
       "1      69  4.21      1\n",
       "2      65  4.09      1\n",
       "3      72  5.85      0\n",
       "4      67  4.70      1"
      ]
     },
     "execution_count": 2,
     "metadata": {},
     "output_type": "execute_result"
    }
   ],
   "source": [
    "from sklearn.preprocessing import LabelEncoder\n",
    "number = LabelEncoder()\n",
    "df[\"Class\"] = number.fit_transform(df[\"Class\"].astype(\"str\"))\n",
    "df.head()"
   ]
  },
  {
   "cell_type": "markdown",
   "metadata": {},
   "source": [
    "# Converting into Array"
   ]
  },
  {
   "cell_type": "code",
   "execution_count": 3,
   "metadata": {},
   "outputs": [
    {
     "data": {
      "text/plain": [
       "array([[69.  ,  4.39,  1.  ],\n",
       "       [69.  ,  4.21,  1.  ],\n",
       "       [65.  ,  4.09,  1.  ],\n",
       "       [72.  ,  5.85,  0.  ],\n",
       "       [67.  ,  4.7 ,  1.  ],\n",
       "       [73.  ,  5.68,  0.  ],\n",
       "       [70.  ,  5.56,  0.  ],\n",
       "       [75.  ,  5.11,  0.  ],\n",
       "       [74.  ,  5.36,  0.  ],\n",
       "       [65.  ,  4.27,  1.  ],\n",
       "       [73.  ,  5.79,  0.  ],\n",
       "       [70.  ,  5.47,  0.  ],\n",
       "       [74.  ,  5.53,  0.  ],\n",
       "       [68.  ,  4.47,  1.  ],\n",
       "       [74.  ,  5.22,  0.  ],\n",
       "       [65.  ,  4.48,  1.  ],\n",
       "       [69.  ,  4.66,  1.  ],\n",
       "       [75.  ,  5.25,  0.  ],\n",
       "       [67.  ,  4.18,  1.  ],\n",
       "       [74.  ,  5.5 ,  0.  ],\n",
       "       [66.  ,  4.13,  1.  ],\n",
       "       [70.  ,  4.83,  1.  ],\n",
       "       [69.  ,  4.61,  1.  ],\n",
       "       [68.  ,  4.08,  1.  ],\n",
       "       [67.  ,  4.25,  1.  ],\n",
       "       [71.  ,  5.35,  0.  ],\n",
       "       [67.  ,  4.01,  1.  ],\n",
       "       [70.  ,  4.22,  1.  ],\n",
       "       [74.  ,  5.25,  0.  ],\n",
       "       [71.  ,  5.26,  0.  ],\n",
       "       [73.  ,  5.78,  0.  ],\n",
       "       [66.  ,  4.68,  1.  ],\n",
       "       [72.  ,  5.72,  0.  ],\n",
       "       [73.  ,  5.17,  0.  ],\n",
       "       [68.  ,  4.83,  1.  ],\n",
       "       [69.  ,  4.11,  1.  ],\n",
       "       [69.  ,  4.76,  1.  ],\n",
       "       [74.  ,  5.48,  0.  ],\n",
       "       [70.  ,  5.59,  0.  ],\n",
       "       [73.  ,  5.03,  0.  ]])"
      ]
     },
     "execution_count": 3,
     "metadata": {},
     "output_type": "execute_result"
    }
   ],
   "source": [
    "dataset = df.values\n",
    "dataset"
   ]
  },
  {
   "cell_type": "markdown",
   "metadata": {},
   "source": [
    "# Splitting Input and Output Variables"
   ]
  },
  {
   "cell_type": "code",
   "execution_count": 4,
   "metadata": {},
   "outputs": [],
   "source": [
    "X = dataset[:,0:2]\n",
    "Y = dataset[:,2]"
   ]
  },
  {
   "cell_type": "markdown",
   "metadata": {},
   "source": [
    "# Scaling Data"
   ]
  },
  {
   "cell_type": "code",
   "execution_count": 5,
   "metadata": {},
   "outputs": [
    {
     "data": {
      "text/plain": [
       "array([[0.4       , 0.20652174],\n",
       "       [0.4       , 0.10869565],\n",
       "       [0.        , 0.04347826],\n",
       "       [0.7       , 1.        ],\n",
       "       [0.2       , 0.375     ],\n",
       "       [0.8       , 0.9076087 ],\n",
       "       [0.5       , 0.8423913 ],\n",
       "       [1.        , 0.59782609],\n",
       "       [0.9       , 0.73369565],\n",
       "       [0.        , 0.14130435],\n",
       "       [0.8       , 0.9673913 ],\n",
       "       [0.5       , 0.79347826],\n",
       "       [0.9       , 0.82608696],\n",
       "       [0.3       , 0.25      ],\n",
       "       [0.9       , 0.6576087 ],\n",
       "       [0.        , 0.25543478],\n",
       "       [0.4       , 0.35326087],\n",
       "       [1.        , 0.67391304],\n",
       "       [0.2       , 0.0923913 ],\n",
       "       [0.9       , 0.80978261],\n",
       "       [0.1       , 0.06521739],\n",
       "       [0.5       , 0.44565217],\n",
       "       [0.4       , 0.32608696],\n",
       "       [0.3       , 0.03804348],\n",
       "       [0.2       , 0.13043478],\n",
       "       [0.6       , 0.72826087],\n",
       "       [0.2       , 0.        ],\n",
       "       [0.5       , 0.11413043],\n",
       "       [0.9       , 0.67391304],\n",
       "       [0.6       , 0.67934783],\n",
       "       [0.8       , 0.96195652],\n",
       "       [0.1       , 0.36413043],\n",
       "       [0.7       , 0.92934783],\n",
       "       [0.8       , 0.63043478],\n",
       "       [0.3       , 0.44565217],\n",
       "       [0.4       , 0.05434783],\n",
       "       [0.4       , 0.4076087 ],\n",
       "       [0.9       , 0.79891304],\n",
       "       [0.5       , 0.85869565],\n",
       "       [0.8       , 0.55434783]])"
      ]
     },
     "execution_count": 5,
     "metadata": {},
     "output_type": "execute_result"
    }
   ],
   "source": [
    "from sklearn import preprocessing\n",
    "min_max_scaler = preprocessing.MinMaxScaler()\n",
    "X_scale = min_max_scaler.fit_transform(X)\n",
    "X_scale"
   ]
  },
  {
   "cell_type": "markdown",
   "metadata": {},
   "source": [
    "# Train- Test Split"
   ]
  },
  {
   "cell_type": "code",
   "execution_count": 6,
   "metadata": {},
   "outputs": [
    {
     "name": "stdout",
     "output_type": "stream",
     "text": [
      "(28, 2) (6, 2) (6, 2) (28,) (6,) (6,)\n"
     ]
    }
   ],
   "source": [
    "from sklearn.model_selection import train_test_split\n",
    "X_train, X_val_and_test, Y_train, Y_val_and_test = train_test_split(X_scale, Y, test_size=0.3)\n",
    "X_val, X_test, Y_val, Y_test = train_test_split(X_val_and_test, Y_val_and_test, test_size=0.5)\n",
    "print(X_train.shape, X_val.shape, X_test.shape, Y_train.shape, Y_val.shape, Y_test.shape)"
   ]
  },
  {
   "cell_type": "markdown",
   "metadata": {},
   "source": [
    "# Model Building"
   ]
  },
  {
   "cell_type": "code",
   "execution_count": 7,
   "metadata": {},
   "outputs": [],
   "source": [
    "# Importing Libraries\n",
    "from tensorflow.keras.models import Sequential\n",
    "from tensorflow.keras.layers import Dense"
   ]
  },
  {
   "cell_type": "code",
   "execution_count": 8,
   "metadata": {},
   "outputs": [],
   "source": [
    "model = Sequential([\n",
    "    Dense(32, activation='relu', input_shape=(2,)),\n",
    "    Dense(32, activation='relu'),\n",
    "    Dense(1, activation='sigmoid'),\n",
    "])"
   ]
  },
  {
   "cell_type": "code",
   "execution_count": 9,
   "metadata": {},
   "outputs": [],
   "source": [
    "model.compile(optimizer='sgd',\n",
    "              loss='binary_crossentropy',\n",
    "              metrics=['accuracy'])"
   ]
  },
  {
   "cell_type": "code",
   "execution_count": 10,
   "metadata": {},
   "outputs": [
    {
     "name": "stdout",
     "output_type": "stream",
     "text": [
      "Train on 28 samples, validate on 6 samples\n",
      "Epoch 1/50\n",
      "28/28 [==============================] - 2s 67ms/sample - loss: 0.7528 - accuracy: 0.4286 - val_loss: 0.7390 - val_accuracy: 0.5000\n",
      "Epoch 2/50\n",
      "28/28 [==============================] - 0s 3ms/sample - loss: 0.7320 - accuracy: 0.4286 - val_loss: 0.7246 - val_accuracy: 0.3333\n",
      "Epoch 3/50\n",
      "28/28 [==============================] - 0s 3ms/sample - loss: 0.7180 - accuracy: 0.2857 - val_loss: 0.7133 - val_accuracy: 0.0000e+00\n",
      "Epoch 4/50\n",
      "28/28 [==============================] - 0s 3ms/sample - loss: 0.7066 - accuracy: 0.2143 - val_loss: 0.7034 - val_accuracy: 0.1667\n",
      "Epoch 5/50\n",
      "28/28 [==============================] - 0s 3ms/sample - loss: 0.6967 - accuracy: 0.3929 - val_loss: 0.6943 - val_accuracy: 0.5000\n",
      "Epoch 6/50\n",
      "28/28 [==============================] - 0s 4ms/sample - loss: 0.6871 - accuracy: 0.5357 - val_loss: 0.6852 - val_accuracy: 0.5000\n",
      "Epoch 7/50\n",
      "28/28 [==============================] - 0s 3ms/sample - loss: 0.6777 - accuracy: 0.5357 - val_loss: 0.6770 - val_accuracy: 0.5000\n",
      "Epoch 8/50\n",
      "28/28 [==============================] - 0s 4ms/sample - loss: 0.6701 - accuracy: 0.5357 - val_loss: 0.6697 - val_accuracy: 0.5000\n",
      "Epoch 9/50\n",
      "28/28 [==============================] - 0s 3ms/sample - loss: 0.6625 - accuracy: 0.5357 - val_loss: 0.6626 - val_accuracy: 0.5000\n",
      "Epoch 10/50\n",
      "28/28 [==============================] - 0s 4ms/sample - loss: 0.6568 - accuracy: 0.5357 - val_loss: 0.6565 - val_accuracy: 0.5000\n",
      "Epoch 11/50\n",
      "28/28 [==============================] - 0s 4ms/sample - loss: 0.6507 - accuracy: 0.5357 - val_loss: 0.6505 - val_accuracy: 0.5000\n",
      "Epoch 12/50\n",
      "28/28 [==============================] - 0s 4ms/sample - loss: 0.6448 - accuracy: 0.5357 - val_loss: 0.6454 - val_accuracy: 0.5000\n",
      "Epoch 13/50\n",
      "28/28 [==============================] - 0s 4ms/sample - loss: 0.6396 - accuracy: 0.5357 - val_loss: 0.6404 - val_accuracy: 0.5000\n",
      "Epoch 14/50\n",
      "28/28 [==============================] - 0s 4ms/sample - loss: 0.6352 - accuracy: 0.5714 - val_loss: 0.6353 - val_accuracy: 0.5000\n",
      "Epoch 15/50\n",
      "28/28 [==============================] - 0s 4ms/sample - loss: 0.6299 - accuracy: 0.5357 - val_loss: 0.6303 - val_accuracy: 0.5000\n",
      "Epoch 16/50\n",
      "28/28 [==============================] - 0s 3ms/sample - loss: 0.6261 - accuracy: 0.5714 - val_loss: 0.6252 - val_accuracy: 0.5000\n",
      "Epoch 17/50\n",
      "28/28 [==============================] - 0s 4ms/sample - loss: 0.6202 - accuracy: 0.5714 - val_loss: 0.6200 - val_accuracy: 0.5000\n",
      "Epoch 18/50\n",
      "28/28 [==============================] - 0s 5ms/sample - loss: 0.6150 - accuracy: 0.5714 - val_loss: 0.6146 - val_accuracy: 0.5000\n",
      "Epoch 19/50\n",
      "28/28 [==============================] - 0s 6ms/sample - loss: 0.6108 - accuracy: 0.5714 - val_loss: 0.6094 - val_accuracy: 0.6667\n",
      "Epoch 20/50\n",
      "28/28 [==============================] - 0s 4ms/sample - loss: 0.6056 - accuracy: 0.5714 - val_loss: 0.6039 - val_accuracy: 0.6667\n",
      "Epoch 21/50\n",
      "28/28 [==============================] - 0s 5ms/sample - loss: 0.6006 - accuracy: 0.5714 - val_loss: 0.5983 - val_accuracy: 0.6667\n",
      "Epoch 22/50\n",
      "28/28 [==============================] - 0s 5ms/sample - loss: 0.5942 - accuracy: 0.5714 - val_loss: 0.5927 - val_accuracy: 0.6667\n",
      "Epoch 23/50\n",
      "28/28 [==============================] - 0s 5ms/sample - loss: 0.5896 - accuracy: 0.6071 - val_loss: 0.5868 - val_accuracy: 0.6667\n",
      "Epoch 24/50\n",
      "28/28 [==============================] - 0s 5ms/sample - loss: 0.5845 - accuracy: 0.6429 - val_loss: 0.5808 - val_accuracy: 0.8333\n",
      "Epoch 25/50\n",
      "28/28 [==============================] - 0s 5ms/sample - loss: 0.5783 - accuracy: 0.6071 - val_loss: 0.5746 - val_accuracy: 0.8333\n",
      "Epoch 26/50\n",
      "28/28 [==============================] - 0s 5ms/sample - loss: 0.5735 - accuracy: 0.6429 - val_loss: 0.5684 - val_accuracy: 0.8333\n",
      "Epoch 27/50\n",
      "28/28 [==============================] - 0s 5ms/sample - loss: 0.5682 - accuracy: 0.6429 - val_loss: 0.5620 - val_accuracy: 0.8333\n",
      "Epoch 28/50\n",
      "28/28 [==============================] - 0s 5ms/sample - loss: 0.5620 - accuracy: 0.6429 - val_loss: 0.5556 - val_accuracy: 0.8333\n",
      "Epoch 29/50\n",
      "28/28 [==============================] - 0s 5ms/sample - loss: 0.5565 - accuracy: 0.6429 - val_loss: 0.5491 - val_accuracy: 0.8333\n",
      "Epoch 30/50\n",
      "28/28 [==============================] - 0s 5ms/sample - loss: 0.5509 - accuracy: 0.6786 - val_loss: 0.5424 - val_accuracy: 0.8333\n",
      "Epoch 31/50\n",
      "28/28 [==============================] - 0s 4ms/sample - loss: 0.5449 - accuracy: 0.6786 - val_loss: 0.5354 - val_accuracy: 0.8333\n",
      "Epoch 32/50\n",
      "28/28 [==============================] - 0s 4ms/sample - loss: 0.5384 - accuracy: 0.6786 - val_loss: 0.5285 - val_accuracy: 0.8333\n",
      "Epoch 33/50\n",
      "28/28 [==============================] - 0s 4ms/sample - loss: 0.5318 - accuracy: 0.7143 - val_loss: 0.5216 - val_accuracy: 0.8333\n",
      "Epoch 34/50\n",
      "28/28 [==============================] - 0s 4ms/sample - loss: 0.5253 - accuracy: 0.6786 - val_loss: 0.5147 - val_accuracy: 0.8333\n",
      "Epoch 35/50\n",
      "28/28 [==============================] - 0s 4ms/sample - loss: 0.5185 - accuracy: 0.7143 - val_loss: 0.5077 - val_accuracy: 0.8333\n",
      "Epoch 36/50\n",
      "28/28 [==============================] - 0s 4ms/sample - loss: 0.5102 - accuracy: 0.7143 - val_loss: 0.5004 - val_accuracy: 0.8333\n",
      "Epoch 37/50\n",
      "28/28 [==============================] - 0s 4ms/sample - loss: 0.5032 - accuracy: 0.7857 - val_loss: 0.4931 - val_accuracy: 0.8333\n",
      "Epoch 38/50\n",
      "28/28 [==============================] - 0s 3ms/sample - loss: 0.4963 - accuracy: 0.8214 - val_loss: 0.4855 - val_accuracy: 0.8333\n",
      "Epoch 39/50\n",
      "28/28 [==============================] - 0s 4ms/sample - loss: 0.4888 - accuracy: 0.8571 - val_loss: 0.4779 - val_accuracy: 0.8333\n",
      "Epoch 40/50\n",
      "28/28 [==============================] - 0s 3ms/sample - loss: 0.4809 - accuracy: 0.8214 - val_loss: 0.4704 - val_accuracy: 0.8333\n",
      "Epoch 41/50\n",
      "28/28 [==============================] - 0s 4ms/sample - loss: 0.4730 - accuracy: 0.8571 - val_loss: 0.4629 - val_accuracy: 0.8333\n",
      "Epoch 42/50\n",
      "28/28 [==============================] - 0s 4ms/sample - loss: 0.4646 - accuracy: 0.8571 - val_loss: 0.4554 - val_accuracy: 0.8333\n",
      "Epoch 43/50\n",
      "28/28 [==============================] - 0s 4ms/sample - loss: 0.4561 - accuracy: 0.8571 - val_loss: 0.4477 - val_accuracy: 0.8333\n",
      "Epoch 44/50\n",
      "28/28 [==============================] - 0s 4ms/sample - loss: 0.4480 - accuracy: 0.8571 - val_loss: 0.4402 - val_accuracy: 0.8333\n",
      "Epoch 45/50\n",
      "28/28 [==============================] - 0s 4ms/sample - loss: 0.4392 - accuracy: 0.8929 - val_loss: 0.4322 - val_accuracy: 0.8333\n",
      "Epoch 46/50\n",
      "28/28 [==============================] - 0s 4ms/sample - loss: 0.4319 - accuracy: 0.8571 - val_loss: 0.4246 - val_accuracy: 0.8333\n",
      "Epoch 47/50\n",
      "28/28 [==============================] - 0s 4ms/sample - loss: 0.4237 - accuracy: 0.8571 - val_loss: 0.4175 - val_accuracy: 0.8333\n",
      "Epoch 48/50\n",
      "28/28 [==============================] - 0s 4ms/sample - loss: 0.4162 - accuracy: 0.8929 - val_loss: 0.4103 - val_accuracy: 0.8333\n",
      "Epoch 49/50\n",
      "28/28 [==============================] - 0s 3ms/sample - loss: 0.4069 - accuracy: 0.9286 - val_loss: 0.4027 - val_accuracy: 0.8333\n",
      "Epoch 50/50\n",
      "28/28 [==============================] - 0s 4ms/sample - loss: 0.3989 - accuracy: 0.9286 - val_loss: 0.3953 - val_accuracy: 1.0000\n"
     ]
    }
   ],
   "source": [
    "hist = model.fit(X_train, Y_train,\n",
    "          batch_size=2, epochs=50,\n",
    "          validation_data=(X_val, Y_val))"
   ]
  },
  {
   "cell_type": "markdown",
   "metadata": {},
   "source": [
    "# Evaluating Model"
   ]
  },
  {
   "cell_type": "code",
   "execution_count": 11,
   "metadata": {},
   "outputs": [
    {
     "name": "stdout",
     "output_type": "stream",
     "text": [
      "\r",
      "6/1 [====================================================================================================================================================================================] - 0s 52ms/sample - loss: 0.3553 - accuracy: 1.0000\n"
     ]
    },
    {
     "data": {
      "text/plain": [
       "[0.3552650511264801, 1.0]"
      ]
     },
     "execution_count": 11,
     "metadata": {},
     "output_type": "execute_result"
    }
   ],
   "source": [
    "model.evaluate(X_test, Y_test)"
   ]
  },
  {
   "cell_type": "markdown",
   "metadata": {},
   "source": [
    "# Prediction in Action"
   ]
  },
  {
   "cell_type": "code",
   "execution_count": 12,
   "metadata": {},
   "outputs": [
    {
     "name": "stdout",
     "output_type": "stream",
     "text": [
      "X=[0.         0.04347826], Predicted=[1]\n"
     ]
    }
   ],
   "source": [
    "X1new = ([[65, 4.09]])\n",
    "\n",
    "# scaling\n",
    "X1new = min_max_scaler.transform(X1new)\n",
    "\n",
    "# make a prediction\n",
    "ynew = model.predict_classes(X1new)\n",
    "\n",
    "# show the inputs and predicted outputs\n",
    "print(\"X=%s, Predicted=%s\" % (X1new[0], ynew[0]))"
   ]
  },
  {
   "cell_type": "code",
   "execution_count": 13,
   "metadata": {},
   "outputs": [
    {
     "name": "stdout",
     "output_type": "stream",
     "text": [
      "X=[0.7 1. ], Predicted=[0]\n"
     ]
    }
   ],
   "source": [
    "X2new = ([[72, 5.85]])\n",
    "\n",
    "# scaling\n",
    "X2new = min_max_scaler.transform(X2new)\n",
    "\n",
    "# make a prediction\n",
    "ynew = model.predict_classes(X2new)\n",
    "\n",
    "# show the inputs and predicted outputs\n",
    "print(\"X=%s, Predicted=%s\" % (X2new[0], ynew[0]))"
   ]
  }
 ],
 "metadata": {
  "kernelspec": {
   "display_name": "Python 3",
   "language": "python",
   "name": "python3"
  },
  "language_info": {
   "codemirror_mode": {
    "name": "ipython",
    "version": 3
   },
   "file_extension": ".py",
   "mimetype": "text/x-python",
   "name": "python",
   "nbconvert_exporter": "python",
   "pygments_lexer": "ipython3",
   "version": "3.7.5"
  }
 },
 "nbformat": 4,
 "nbformat_minor": 2
}
